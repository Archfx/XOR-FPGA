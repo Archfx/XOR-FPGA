{
 "cells": [
  {
   "cell_type": "markdown",
   "metadata": {},
   "source": [
    "# XOR Prediction Neural Network\n",
    "#### A simple neural network which will learn the XOR logic gate.\n",
    "\n",
    "I will provide you with any links necessary so that you can read about the different aspects of this NN(Neural Network)."
   ]
  },
  {
   "cell_type": "markdown",
   "metadata": {},
   "source": [
    "## Neural Network Info\n",
    "\n",
    "#### All information regarding the neural network:\n",
    "\n",
    "- Input Layer Units = 2 \n",
    "- Hidden Layer Units = 3\n",
    "- Output Layer Units = 1\n",
    "\n",
    "- No. of hidden layers = 1\n",
    "- Learning Algorithm = Backpropagation\n",
    "\n",
    "\n",
    "\n",
    "Feel free to mess around with it and try out different things."
   ]
  },
  {
   "cell_type": "code",
   "execution_count": 175,
   "metadata": {},
   "outputs": [],
   "source": [
    "import numpy as np # For matrix math\n",
    "import matplotlib.pyplot as plt # For plotting\n",
    "\n",
    "import sys # For printing"
   ]
  },
  {
   "cell_type": "markdown",
   "metadata": {},
   "source": [
    "### Neural Network Implementation\n",
    "Initially, I was going to approach this in an Object Oriented manner but I think that it would be much easier to read and implement, functionally. So, let's get started."
   ]
  },
  {
   "cell_type": "markdown",
   "metadata": {},
   "source": [
    "### Training Data\n",
    "\n",
    "The XOR logic gate returns true when the number of inputs given is odd and false when they're even. Here is the simple training dataset."
   ]
  },
  {
   "cell_type": "code",
   "execution_count": 176,
   "metadata": {},
   "outputs": [],
   "source": [
    "# The training data.\n",
    "X = np.array([\n",
    "    [0, 1],\n",
    "    [1, 0],\n",
    "    [1, 1],\n",
    "    [0, 0]\n",
    "])\n",
    "\n",
    "# The labels for the training data.\n",
    "y = np.array([\n",
    "    [1],\n",
    "    [1],\n",
    "    [0],\n",
    "    [0]\n",
    "])"
   ]
  },
  {
   "cell_type": "code",
   "execution_count": 177,
   "metadata": {},
   "outputs": [
    {
     "data": {
      "text/plain": [
       "array([[0, 1],\n",
       "       [1, 0],\n",
       "       [1, 1],\n",
       "       [0, 0]])"
      ]
     },
     "execution_count": 177,
     "metadata": {},
     "output_type": "execute_result"
    }
   ],
   "source": [
    "X"
   ]
  },
  {
   "cell_type": "code",
   "execution_count": 178,
   "metadata": {},
   "outputs": [
    {
     "data": {
      "text/plain": [
       "array([[1],\n",
       "       [1],\n",
       "       [0],\n",
       "       [0]])"
      ]
     },
     "execution_count": 178,
     "metadata": {},
     "output_type": "execute_result"
    }
   ],
   "source": [
    "y"
   ]
  },
  {
   "cell_type": "markdown",
   "metadata": {},
   "source": [
    "### Additional Parameters\n",
    "These are just additional parameters which are required by the weights for their dimensions."
   ]
  },
  {
   "cell_type": "code",
   "execution_count": 179,
   "metadata": {},
   "outputs": [],
   "source": [
    "num_i_units = 2 # Number of Input units\n",
    "num_h_units = 3 # Number of Hidden units\n",
    "num_o_units = 1 # Number of Output units"
   ]
  },
  {
   "cell_type": "markdown",
   "metadata": {},
   "source": [
    "### Neural Network Parameters\n",
    "These are the parameters required directly by the NN. Comments should describe the variables."
   ]
  },
  {
   "cell_type": "code",
   "execution_count": 180,
   "metadata": {},
   "outputs": [],
   "source": [
    "# The learning rate for Gradient Descent.\n",
    "learning_rate = 0.01\n",
    "\n",
    "# The parameter to help with overfitting.\n",
    "reg_param = 0\n",
    "\n",
    "# Maximum iterations for Gradient Descent.\n",
    "max_iter = 50000\n",
    "\n",
    "# Number of training examples\n",
    "m = 4"
   ]
  },
  {
   "cell_type": "markdown",
   "metadata": {},
   "source": [
    "### Weights and Biases\n",
    "These are the numbers the NN needs to learn to make accurate predictions.\n",
    "\n",
    "For the connections being made from the input layer to the hidden layer, the weights and biases are arranged in the following order: **each row contains the weights for each hidden unit**. Then, the shape of these set of weights is: *(number of hidden units X number of input units)* and the shape of the biases for this connection will be: *(number of hidden units X 1)*.\n",
    "\n",
    "So, the overall shape of the weights and biases are:\n",
    "\n",
    "**Weights1(Connection from input to hidden layers)**: num_h_units X num_i_units\n",
    "**Biases1(Connection from input to hidden layers)**: num_h_units X 1\n",
    "\n",
    "**Weights2(Connection from hidden to output layers)**: num_o_units X num_h_units\n",
    "**Biases2(Connection from hidden to output layers)**: num_o_units X 1\n",
    "\n",
    "### Generating the Weights\n",
    "\n",
    "The weights here are going to be generated using a [Normal Distribution(Gaussian Distribution)](http://mathworld.wolfram.com/NormalDistribution.html). They will also be seeded so that the outcome always comes out the same."
   ]
  },
  {
   "cell_type": "code",
   "execution_count": 181,
   "metadata": {},
   "outputs": [],
   "source": [
    "np.random.seed(1)\n",
    "W1 = np.random.normal(0, 1, (num_h_units, num_i_units)) # 2x2\n",
    "W2 = np.random.normal(0, 1, (num_o_units, num_h_units)) # 1x2\n",
    "\n",
    "B1 = np.random.random((num_h_units, 1)) # 2x1\n",
    "B2 = np.random.random((num_o_units, 1)) # 1x1"
   ]
  },
  {
   "cell_type": "code",
   "execution_count": 182,
   "metadata": {},
   "outputs": [
    {
     "data": {
      "text/plain": [
       "array([[ 1.62434536, -0.61175641],\n",
       "       [-0.52817175, -1.07296862],\n",
       "       [ 0.86540763, -2.3015387 ]])"
      ]
     },
     "execution_count": 182,
     "metadata": {},
     "output_type": "execute_result"
    }
   ],
   "source": [
    "W1"
   ]
  },
  {
   "cell_type": "code",
   "execution_count": 183,
   "metadata": {},
   "outputs": [
    {
     "data": {
      "text/plain": [
       "array([[ 1.74481176, -0.7612069 ,  0.3190391 ]])"
      ]
     },
     "execution_count": 183,
     "metadata": {},
     "output_type": "execute_result"
    }
   ],
   "source": [
    "W2"
   ]
  },
  {
   "cell_type": "code",
   "execution_count": 184,
   "metadata": {},
   "outputs": [
    {
     "data": {
      "text/plain": [
       "array([[0.02738759],\n",
       "       [0.67046751],\n",
       "       [0.4173048 ]])"
      ]
     },
     "execution_count": 184,
     "metadata": {},
     "output_type": "execute_result"
    }
   ],
   "source": [
    "B1"
   ]
  },
  {
   "cell_type": "code",
   "execution_count": 185,
   "metadata": {},
   "outputs": [
    {
     "data": {
      "text/plain": [
       "array([[0.55868983]])"
      ]
     },
     "execution_count": 185,
     "metadata": {},
     "output_type": "execute_result"
    }
   ],
   "source": [
    "B2"
   ]
  },
  {
   "attachments": {
    "sigmoid-curve.png": {
     "image/png": "[encoded data removed]"
    }
   },
   "cell_type": "markdown",
   "metadata": {},
   "source": [
    "### Sigmoid Function\n",
    "[This](http://mathworld.wolfram.com/SigmoidFunction.html) function maps any input to a value between 0 and 1.\n",
    "\n",
    "![sigmoid-curve.png](attachment:sigmoid-curve.png)\n",
    "\n",
    "In my implementation, I have added a boolean which if set to true, will return [Sigmoid Prime(the derivative of the sigmoid function)](http://www.ai.mit.edu/courses/6.892/lecture8-html/sld015.htm) of the input value. This will be used in backpropagation later on."
   ]
  },
  {
   "cell_type": "code",
   "execution_count": 186,
   "metadata": {},
   "outputs": [],
   "source": [
    "def sigmoid(z, derv=False):\n",
    "    if derv: return z * (1 - z)\n",
    "    return 1 / (1 + np.exp(-z))"
   ]
  },
  {
   "cell_type": "markdown",
   "metadata": {},
   "source": [
    "### Forward Propagation\n",
    "[This](https://en.wikipedia.org/wiki/Feedforward_neural_network) is how predictions are made. Propagating the input through the NN to get the output.\n",
    "\n",
    "In my implementation, the forward function only accepts a feature vector as row vector which is then converted to a column vector. Also, the predict boolean, if set to true, only returns the output. Otherwise, it returns a tuple of the outputs of all the layers."
   ]
  },
  {
   "cell_type": "code",
   "execution_count": 187,
   "metadata": {},
   "outputs": [],
   "source": [
    "def forward(x, predict=False):\n",
    "    a1 = x.reshape(x.shape[0], 1) # Getting the training example as a column vector.\n",
    "\n",
    "    z2 = W1.dot(a1) + B1 # 2x2 * 2x1 + 2x1 = 2x1\n",
    "    a2 = sigmoid(z2) # 2x1\n",
    "\n",
    "    z3 = W2.dot(a2) + B2 # 1x2 * 2x1 + 1x1 = 1x1\n",
    "    a3 = sigmoid(z3)\n",
    "\n",
    "    if predict: return a3\n",
    "    return (a1, a2, a3)"
   ]
  },
  {
   "cell_type": "markdown",
   "metadata": {},
   "source": [
    "### Gradients for the Weights and Biases\n",
    "These variables will contain the gradients for the weights and biases which will be used by gradient descent to update the weights and biases.\n",
    "\n",
    "Also, creating the vector which will be storing the cost values for each gradient descent iteration to help visualize the cost as the weights and biases are updated."
   ]
  },
  {
   "cell_type": "code",
   "execution_count": 188,
   "metadata": {},
   "outputs": [],
   "source": [
    "dW1 = 0 # Gradient for W1\n",
    "dW2 = 0 # Gradient for W2\n",
    "\n",
    "dB1 = 0 # Gradient for B1\n",
    "dB2 = 0 # Gradient for B2\n",
    "\n",
    "cost = np.zeros((max_iter, 1)) # Column vector to record the cost of the NN after each Gradient Descent iteration."
   ]
  },
  {
   "cell_type": "markdown",
   "metadata": {},
   "source": [
    "## Training\n",
    "This is the training function which contains the meat of NN. This contains forward propagation and [Backpropagation](http://neuralnetworksanddeeplearning.com/chap2.html).\n",
    "\n",
    "### Backpropagation\n",
    "The process of propagating the error in the output layer, backwards through the NN to calculate the error in each layer. Intuition: It's like forward propagation, but backwards.\n",
    "\n",
    "Steps(for this NN):\n",
    "1. Calculate the error in the output layer(dz2).\n",
    "2. Calculate the error in the weights connecting the hidden layer to the output layer using dz2 (dW2).\n",
    "3. Calculate the error in the hidden layer(dz1).\n",
    "4. Calculate the error in the weights connecting the input layer to the hidden layer using dz1 (dW1).\n",
    "5. The errors in the biases are just the errors in the respective layers.\n",
    "\n",
    "Afterwards, the gradients(errors) of the weights and biases are used to update the corresponding weights and biases by multiplying them with the negative of the learning rate and scaling it by divinding it by the number of training examples.\n",
    "\n",
    "While iterating over all the training examples, the cost is also being calculated simultaneously for each example. Then, a regurlization parameter is added, although for such a small dataset, regularization is unnecessary since to perform well, the NN will have to over fit to the training data."
   ]
  },
  {
   "cell_type": "code",
   "execution_count": 189,
   "metadata": {},
   "outputs": [],
   "source": [
    "def train(_W1, _W2, _B1, _B2): # The arguments are to bypass UnboundLocalError error\n",
    "    for i in range(max_iter):\n",
    "        c = 0\n",
    "        \n",
    "        dW1 = 0\n",
    "        dW2 = 0\n",
    "\n",
    "        dB1 = 0\n",
    "        dB2 = 0\n",
    "        \n",
    "        for j in range(m):\n",
    "            sys.stdout.write(\"\\rIteration: {} and {}\".format(i + 1, j + 1))\n",
    "\n",
    "            # Forward Prop.\n",
    "            a0 = X[j].reshape(X[j].shape[0], 1) # 2x1\n",
    "\n",
    "            z1 = _W1.dot(a0) + _B1 # 2x2 * 2x1 + 2x1 = 2x1\n",
    "            a1 = sigmoid(z1) # 2x1\n",
    "\n",
    "            z2 = _W2.dot(a1) + _B2 # 1x2 * 2x1 + 1x1 = 1x1\n",
    "            a2 = sigmoid(z2) # 1x1\n",
    "\n",
    "            # Back prop.\n",
    "            dz2 = a2 - y[j] # 1x1\n",
    "            dW2 += dz2 * a1.T # 1x1 .* 1x2 = 1x2\n",
    "\n",
    "            dz1 = np.multiply((_W2.T * dz2), sigmoid(a1, derv=True)) # (2x1 * 1x1) .* 2x1 = 2x1\n",
    "            dW1 += dz1.dot(a0.T) # 2x1 * 1x2 = 2x2\n",
    "\n",
    "            dB1 += dz1 # 2x1\n",
    "            dB2 += dz2 # 1x1\n",
    "\n",
    "            c = c + (-(y[j] * np.log(a2)) - ((1 - y[j]) * np.log(1 - a2)))\n",
    "            sys.stdout.flush() # Updating the text.\n",
    "        \n",
    "        _W1 = _W1 - learning_rate * (dW1 / m) + ( (reg_param / m) * _W1)\n",
    "        _W2 = _W2 - learning_rate * (dW2 / m) + ( (reg_param / m) * _W2)\n",
    "\n",
    "        _B1 = _B1 - learning_rate * (dB1 / m)\n",
    "        _B2 = _B2 - learning_rate * (dB2 / m)\n",
    "        cost[i] = (c / m) + ( \n",
    "            (reg_param / (2 * m)) * \n",
    "            (\n",
    "                np.sum(np.power(_W1, 2)) + \n",
    "                np.sum(np.power(_W2, 2))\n",
    "            )\n",
    "        )\n",
    "    return (_W1, _W2, _B1, _B2)"
   ]
  },
  {
   "cell_type": "markdown",
   "metadata": {},
   "source": [
    "## Running\n",
    "Now, let's try out the NN. Here, I have called the train() function. You can make any changes you like and then run all the kernels again. I have also plotted the cost function to visual how the NN performed.\n",
    "\n",
    "The console printing might be off.\n",
    "\n",
    "The weights and biases are then shown."
   ]
  },
  {
   "cell_type": "code",
   "execution_count": 140,
   "metadata": {},
   "outputs": [
    {
     "name": "stdout",
     "output_type": "stream",
     "text": [
      "Iteration: 50000 and 4"
     ]
    }
   ],
   "source": [
    "W1, W2, B1, B2 = train(W1, W2, B1, B2)"
   ]
  },
  {
   "cell_type": "code",
   "execution_count": 141,
   "metadata": {},
   "outputs": [
    {
     "data": {
      "text/plain": [
       "array([[ 4.74185753, -6.13103778],\n",
       "       [-3.50823244, -4.63758001],\n",
       "       [ 5.51520192, -3.77964294]])"
      ]
     },
     "execution_count": 141,
     "metadata": {},
     "output_type": "execute_result"
    }
   ],
   "source": [
    "W1"
   ]
  },
  {
   "cell_type": "code",
   "execution_count": 142,
   "metadata": {},
   "outputs": [
    {
     "data": {
      "text/plain": [
       "array([[ 7.5194821 , -4.41987076, -6.63780666]])"
      ]
     },
     "execution_count": 142,
     "metadata": {},
     "output_type": "execute_result"
    }
   ],
   "source": [
    "W2"
   ]
  },
  {
   "cell_type": "code",
   "execution_count": 143,
   "metadata": {},
   "outputs": [
    {
     "data": {
      "text/plain": [
       "array([[-2.32319703],\n",
       "       [ 0.72576663],\n",
       "       [ 1.32843545]])"
      ]
     },
     "execution_count": 143,
     "metadata": {},
     "output_type": "execute_result"
    }
   ],
   "source": [
    "B1"
   ]
  },
  {
   "cell_type": "code",
   "execution_count": 144,
   "metadata": {},
   "outputs": [
    {
     "data": {
      "text/plain": [
       "array([[3.38932348]])"
      ]
     },
     "execution_count": 144,
     "metadata": {},
     "output_type": "execute_result"
    }
   ],
   "source": [
    "B2"
   ]
  },
  {
   "cell_type": "code",
   "execution_count": null,
   "metadata": {},
   "outputs": [],
   "source": []
  },
  {
   "cell_type": "markdown",
   "metadata": {},
   "source": [
    "### Plotting\n",
    "Now, let's plot a simple plot showing the cost function with respect to the number of iterations of gradient descent."
   ]
  },
  {
   "cell_type": "code",
   "execution_count": 145,
   "metadata": {},
   "outputs": [
    {
     "data": {
      "image/png": "[encoded data removed]",
      "text/plain": [
       "<Figure size 432x288 with 1 Axes>"
      ]
     },
     "metadata": {
      "needs_background": "light"
     },
     "output_type": "display_data"
    },
    {
     "data": {
      "text/plain": [
       "<Figure size 432x288 with 0 Axes>"
      ]
     },
     "metadata": {},
     "output_type": "display_data"
    }
   ],
   "source": [
    "# Assigning the axes to the different elements.\n",
    "plt.plot(range(max_iter), cost)\n",
    "\n",
    "# Labelling the x axis as the iterations axis.\n",
    "plt.xlabel(\"Iterations\")\n",
    "\n",
    "# Labelling the y axis as the cost axis.\n",
    "plt.ylabel(\"Cost\")\n",
    "\n",
    "# Showing the plot.\n",
    "plt.show()\n",
    "plt.savefig('1sr.jpg', bbox_inches='tight', pad_inches=0.0, dpi=200,)"
   ]
  },
  {
   "cell_type": "code",
   "execution_count": 150,
   "metadata": {},
   "outputs": [
    {
     "data": {
      "text/plain": [
       "array([[0.01527777]])"
      ]
     },
     "execution_count": 150,
     "metadata": {},
     "output_type": "execute_result"
    }
   ],
   "source": [
    "forward(np.array([0, 0]),True)"
   ]
  },
  {
   "cell_type": "markdown",
   "metadata": {},
   "source": [
    "## Scratch implementation\n",
    "\n",
    "Without using Numpy"
   ]
  },
  {
   "cell_type": "code",
   "execution_count": 1,
   "metadata": {},
   "outputs": [],
   "source": [
    "import numpy as np # For matrix math\n",
    "import matplotlib.pyplot as plt # For plotting\n",
    "\n",
    "import sys # For printing"
   ]
  },
  {
   "cell_type": "code",
   "execution_count": 2,
   "metadata": {},
   "outputs": [
    {
     "name": "stdout",
     "output_type": "stream",
     "text": [
      "[[0, 1], [1, 0], [1, 1], [0, 0]]\n"
     ]
    }
   ],
   "source": [
    "X = [[0, 1],[1, 0],[1, 1],[0, 0]]\n",
    "print (X)"
   ]
  },
  {
   "cell_type": "code",
   "execution_count": 3,
   "metadata": {},
   "outputs": [],
   "source": [
    "y =[[1],[1],[0],[0]]"
   ]
  },
  {
   "cell_type": "code",
   "execution_count": 4,
   "metadata": {},
   "outputs": [],
   "source": [
    "num_i_units = 2 # Number of Input units\n",
    "num_h_units = 3 # Number of Hidden units\n",
    "num_o_units = 1 # Number of Output units"
   ]
  },
  {
   "cell_type": "code",
   "execution_count": 5,
   "metadata": {},
   "outputs": [],
   "source": [
    "# The learning rate for Gradient Descent.\n",
    "learning_rate = 0.01\n",
    "\n",
    "# The parameter to help with overfitting.\n",
    "reg_param = 0\n",
    "\n",
    "# Maximum iterations for Gradient Descent.\n",
    "max_iter = 50000\n",
    "\n",
    "# Number of training examples\n",
    "m = 4"
   ]
  },
  {
   "cell_type": "code",
   "execution_count": 6,
   "metadata": {},
   "outputs": [],
   "source": [
    "W1 = [[ 47, -61],[-35, -46],[ 55, -37]]\n",
    "W2 = [ 75 , -44, -66]\n",
    "\n",
    "B1 = [-23,7,13]\n",
    "B2 = [33]"
   ]
  },
  {
   "cell_type": "code",
   "execution_count": 7,
   "metadata": {},
   "outputs": [],
   "source": [
    "#Tuned parameters\n",
    "# W1 = [[ 4.74185753, -6.13103778],[-3.50823244, -4.63758001],[ 5.51520192, -3.77964294]]\n",
    "# W2 = [ 7.5194821 , -4.41987076, -6.63780666]\n",
    "\n",
    "# B1 = [-2.32319703,0.72576663,1.32843545]\n",
    "# B2 = [3.38932348]"
   ]
  },
  {
   "cell_type": "code",
   "execution_count": 8,
   "metadata": {},
   "outputs": [],
   "source": [
    "def sigmoid(z, derv=False):\n",
    "    if derv: return z * (1 - z)\n",
    "    return 1 / (1 + np.exp(-z))"
   ]
  },
  {
   "cell_type": "code",
   "execution_count": 9,
   "metadata": {},
   "outputs": [],
   "source": [
    "def forward(x, predict=False):\n",
    "    #a1 = x.reshape(x.shape[0], 1) # Getting the training example as a column vector.\n",
    "    z2=[0,0,0]\n",
    "    for i in range (len(x)):\n",
    "        z2[0]+=W1[0][i]*x[i]\n",
    "        z2[1]+=W1[1][i]*x[i]\n",
    "        z2[2]+=W1[2][i]*x[i]\n",
    "    z2[0]+=B1[0]\n",
    "    z2[1]+=B1[1]\n",
    "    z2[2]+=B1[2]\n",
    "    \n",
    "    print (z2)\n",
    "    \n",
    "    z2[0]=z2[0]/10\n",
    "    z2[1]=z2[1]/10\n",
    "    z2[2]=z2[2]/10\n",
    "#     z2 = W1.dot(a1) + B1 # 2x2 * 2x1 + 2x1 = 2x1\n",
    "    a2 = sigmoid(np.array(z2))\n",
    "    a2.tolist()\n",
    "    \n",
    "    a2[0]=int(a2[0]*100)\n",
    "    a2[1]=int(a2[1]*100)\n",
    "    a2[2]=int(a2[2]*100)\n",
    "    \n",
    "    print (a2)\n",
    "    z3=0\n",
    "    for i in range (len(a2)):\n",
    "        z3+=W2[i]*a2[i]/100\n",
    "    z3+=B2[0]\n",
    "    print (z3)\n",
    "    a3 = sigmoid(np.array(z3/10))\n",
    "\n",
    "    if predict: return int(a3*100)\n",
    "    return (a1, a2, a3)"
   ]
  },
  {
   "cell_type": "code",
   "execution_count": 14,
   "metadata": {},
   "outputs": [
    {
     "name": "stdout",
     "output_type": "stream",
     "text": [
      "[-23, 7, 13]\n",
      "[ 9. 66. 78.]\n",
      "-40.769999999999996\n"
     ]
    },
    {
     "data": {
      "text/plain": [
       "1"
      ]
     },
     "execution_count": 14,
     "metadata": {},
     "output_type": "execute_result"
    }
   ],
   "source": [
    "forward([0,0],True)\n",
    "# 00-0.0011639148470746173\n",
    "# 11-0.01278397172659985\n",
    "# 01-0.036059012680189254\n",
    "# 10-0.32815600427794245"
   ]
  },
  {
   "cell_type": "code",
   "execution_count": 13,
   "metadata": {},
   "outputs": [],
   "source": [
    "import math\n",
    "\n",
    "def sigmoid_m(x):\n",
    "    return 1 / (1 + math.exp(-x))"
   ]
  },
  {
   "cell_type": "markdown",
   "metadata": {},
   "source": [
    "# "
   ]
  },
  {
   "cell_type": "code",
   "execution_count": 26,
   "metadata": {},
   "outputs": [
    {
     "name": "stdout",
     "output_type": "stream",
     "text": [
      "8'sd 0 : out<= 8'sd 50 ;\n",
      "8'sd 1 : out<= 8'sd 52 ;\n",
      "8'sd 2 : out<= 8'sd 54 ;\n",
      "8'sd 3 : out<= 8'sd 57 ;\n",
      "8'sd 4 : out<= 8'sd 59 ;\n",
      "8'sd 5 : out<= 8'sd 62 ;\n",
      "8'sd 6 : out<= 8'sd 64 ;\n",
      "8'sd 7 : out<= 8'sd 66 ;\n",
      "8'sd 8 : out<= 8'sd 68 ;\n",
      "8'sd 9 : out<= 8'sd 71 ;\n",
      "8'sd 10 : out<= 8'sd 73 ;\n",
      "8'sd 11 : out<= 8'sd 75 ;\n",
      "8'sd 12 : out<= 8'sd 76 ;\n",
      "8'sd 13 : out<= 8'sd 78 ;\n",
      "8'sd 14 : out<= 8'sd 80 ;\n",
      "8'sd 15 : out<= 8'sd 81 ;\n",
      "8'sd 16 : out<= 8'sd 83 ;\n",
      "8'sd 17 : out<= 8'sd 84 ;\n",
      "8'sd 18 : out<= 8'sd 85 ;\n",
      "8'sd 19 : out<= 8'sd 86 ;\n",
      "8'sd 20 : out<= 8'sd 88 ;\n",
      "8'sd 21 : out<= 8'sd 89 ;\n",
      "8'sd 22 : out<= 8'sd 90 ;\n",
      "8'sd 23 : out<= 8'sd 90 ;\n",
      "8'sd 24 : out<= 8'sd 91 ;\n",
      "8'sd 25 : out<= 8'sd 92 ;\n",
      "8'sd 26 : out<= 8'sd 93 ;\n",
      "8'sd 27 : out<= 8'sd 93 ;\n",
      "8'sd 28 : out<= 8'sd 94 ;\n",
      "8'sd 29 : out<= 8'sd 94 ;\n",
      "8'sd 30 : out<= 8'sd 95 ;\n",
      "8'sd 31 : out<= 8'sd 95 ;\n",
      "8'sd 32 : out<= 8'sd 96 ;\n",
      "8'sd 33 : out<= 8'sd 96 ;\n",
      "8'sd 34 : out<= 8'sd 96 ;\n",
      "8'sd 35 : out<= 8'sd 97 ;\n",
      "8'sd 36 : out<= 8'sd 97 ;\n",
      "8'sd 37 : out<= 8'sd 97 ;\n",
      "8'sd 38 : out<= 8'sd 97 ;\n",
      "8'sd 39 : out<= 8'sd 98 ;\n",
      "8'sd 40 : out<= 8'sd 98 ;\n",
      "8'sd 41 : out<= 8'sd 98 ;\n",
      "8'sd 42 : out<= 8'sd 98 ;\n",
      "8'sd 43 : out<= 8'sd 98 ;\n",
      "8'sd 44 : out<= 8'sd 98 ;\n",
      "8'sd 45 : out<= 8'sd 98 ;\n",
      "8'sd 46 : out<= 8'sd 99 ;\n",
      "8'sd 47 : out<= 8'sd 99 ;\n",
      "8'sd 48 : out<= 8'sd 99 ;\n",
      "8'sd 49 : out<= 8'sd 99 ;\n",
      "8'sd 50 : out<= 8'sd 99 ;\n",
      "8'sd 51 : out<= 8'sd 99 ;\n",
      "8'sd 52 : out<= 8'sd 99 ;\n",
      "8'sd 53 : out<= 8'sd 99 ;\n",
      "8'sd 54 : out<= 8'sd 99 ;\n",
      "8'sd 55 : out<= 8'sd 99 ;\n",
      "8'sd 56 : out<= 8'sd 99 ;\n",
      "8'sd 57 : out<= 8'sd 99 ;\n",
      "8'sd 58 : out<= 8'sd 99 ;\n",
      "8'sd 59 : out<= 8'sd 99 ;\n",
      "8'sd 60 : out<= 8'sd 99 ;\n",
      "8'sd 61 : out<= 8'sd 99 ;\n",
      "8'sd 62 : out<= 8'sd 99 ;\n",
      "8'sd 63 : out<= 8'sd 99 ;\n",
      "8'sd 64 : out<= 8'sd 99 ;\n",
      "8'sd 65 : out<= 8'sd 99 ;\n",
      "8'sd 66 : out<= 8'sd 99 ;\n",
      "8'sd 67 : out<= 8'sd 99 ;\n",
      "8'sd 68 : out<= 8'sd 99 ;\n",
      "8'sd 69 : out<= 8'sd 99 ;\n",
      "8'sd 70 : out<= 8'sd 99 ;\n",
      "8'sd 71 : out<= 8'sd 99 ;\n",
      "8'sd 72 : out<= 8'sd 99 ;\n",
      "8'sd 73 : out<= 8'sd 99 ;\n",
      "8'sd 74 : out<= 8'sd 99 ;\n",
      "8'sd 75 : out<= 8'sd 99 ;\n",
      "8'sd 76 : out<= 8'sd 99 ;\n",
      "8'sd 77 : out<= 8'sd 99 ;\n",
      "8'sd 78 : out<= 8'sd 99 ;\n",
      "8'sd 79 : out<= 8'sd 99 ;\n",
      "8'sd 80 : out<= 8'sd 99 ;\n",
      "8'sd 81 : out<= 8'sd 99 ;\n",
      "8'sd 82 : out<= 8'sd 99 ;\n",
      "8'sd 83 : out<= 8'sd 99 ;\n",
      "8'sd 84 : out<= 8'sd 99 ;\n",
      "8'sd 85 : out<= 8'sd 99 ;\n",
      "8'sd 86 : out<= 8'sd 99 ;\n",
      "8'sd 87 : out<= 8'sd 99 ;\n",
      "8'sd 88 : out<= 8'sd 99 ;\n",
      "8'sd 89 : out<= 8'sd 99 ;\n",
      "8'sd 90 : out<= 8'sd 99 ;\n",
      "8'sd 91 : out<= 8'sd 99 ;\n",
      "8'sd 92 : out<= 8'sd 99 ;\n",
      "8'sd 93 : out<= 8'sd 99 ;\n",
      "8'sd 94 : out<= 8'sd 99 ;\n",
      "8'sd 95 : out<= 8'sd 99 ;\n",
      "8'sd 96 : out<= 8'sd 99 ;\n",
      "8'sd 97 : out<= 8'sd 99 ;\n",
      "8'sd 98 : out<= 8'sd 99 ;\n",
      "8'sd 99 : out<= 8'sd 99 ;\n",
      "8'sd 100 : out<= 8'sd 99 ;\n",
      "8'sd 101 : out<= 8'sd 99 ;\n",
      "8'sd 102 : out<= 8'sd 99 ;\n",
      "8'sd 103 : out<= 8'sd 99 ;\n",
      "8'sd 104 : out<= 8'sd 99 ;\n",
      "8'sd 105 : out<= 8'sd 99 ;\n",
      "8'sd 106 : out<= 8'sd 99 ;\n",
      "8'sd 107 : out<= 8'sd 99 ;\n",
      "8'sd 108 : out<= 8'sd 99 ;\n",
      "8'sd 109 : out<= 8'sd 99 ;\n",
      "8'sd 110 : out<= 8'sd 99 ;\n",
      "8'sd 111 : out<= 8'sd 99 ;\n",
      "8'sd 112 : out<= 8'sd 99 ;\n",
      "8'sd 113 : out<= 8'sd 99 ;\n",
      "8'sd 114 : out<= 8'sd 99 ;\n",
      "8'sd 115 : out<= 8'sd 99 ;\n",
      "8'sd 116 : out<= 8'sd 99 ;\n",
      "8'sd 117 : out<= 8'sd 99 ;\n",
      "8'sd 118 : out<= 8'sd 99 ;\n",
      "8'sd 119 : out<= 8'sd 99 ;\n",
      "8'sd 120 : out<= 8'sd 99 ;\n",
      "8'sd 121 : out<= 8'sd 99 ;\n",
      "8'sd 122 : out<= 8'sd 99 ;\n",
      "8'sd 123 : out<= 8'sd 99 ;\n",
      "8'sd 124 : out<= 8'sd 99 ;\n",
      "8'sd 125 : out<= 8'sd 99 ;\n",
      "8'sd 126 : out<= 8'sd 99 ;\n",
      "8'sd 127 : out<= 8'sd 99 ;\n"
     ]
    }
   ],
   "source": [
    "# sigmoid case statement verilog\n",
    "for i in range (0,128):\n",
    "    print (\"8'sd\", i,\": out<= 8'sd\", int(sigmoid_m(i/10)*100) ,\";\")"
   ]
  },
  {
   "cell_type": "code",
   "execution_count": 27,
   "metadata": {},
   "outputs": [
    {
     "name": "stdout",
     "output_type": "stream",
     "text": [
      "-8'sd 127 : out<= 8'sd 0 ;\n",
      "-8'sd 126 : out<= 8'sd 0 ;\n",
      "-8'sd 125 : out<= 8'sd 0 ;\n",
      "-8'sd 124 : out<= 8'sd 0 ;\n",
      "-8'sd 123 : out<= 8'sd 0 ;\n",
      "-8'sd 122 : out<= 8'sd 0 ;\n",
      "-8'sd 121 : out<= 8'sd 0 ;\n",
      "-8'sd 120 : out<= 8'sd 0 ;\n",
      "-8'sd 119 : out<= 8'sd 0 ;\n",
      "-8'sd 118 : out<= 8'sd 0 ;\n",
      "-8'sd 117 : out<= 8'sd 0 ;\n",
      "-8'sd 116 : out<= 8'sd 0 ;\n",
      "-8'sd 115 : out<= 8'sd 0 ;\n",
      "-8'sd 114 : out<= 8'sd 0 ;\n",
      "-8'sd 113 : out<= 8'sd 0 ;\n",
      "-8'sd 112 : out<= 8'sd 0 ;\n",
      "-8'sd 111 : out<= 8'sd 0 ;\n",
      "-8'sd 110 : out<= 8'sd 0 ;\n",
      "-8'sd 109 : out<= 8'sd 0 ;\n",
      "-8'sd 108 : out<= 8'sd 0 ;\n",
      "-8'sd 107 : out<= 8'sd 0 ;\n",
      "-8'sd 106 : out<= 8'sd 0 ;\n",
      "-8'sd 105 : out<= 8'sd 0 ;\n",
      "-8'sd 104 : out<= 8'sd 0 ;\n",
      "-8'sd 103 : out<= 8'sd 0 ;\n",
      "-8'sd 102 : out<= 8'sd 0 ;\n",
      "-8'sd 101 : out<= 8'sd 0 ;\n",
      "-8'sd 100 : out<= 8'sd 0 ;\n",
      "-8'sd 99 : out<= 8'sd 0 ;\n",
      "-8'sd 98 : out<= 8'sd 0 ;\n",
      "-8'sd 97 : out<= 8'sd 0 ;\n",
      "-8'sd 96 : out<= 8'sd 0 ;\n",
      "-8'sd 95 : out<= 8'sd 0 ;\n",
      "-8'sd 94 : out<= 8'sd 0 ;\n",
      "-8'sd 93 : out<= 8'sd 0 ;\n",
      "-8'sd 92 : out<= 8'sd 0 ;\n",
      "-8'sd 91 : out<= 8'sd 0 ;\n",
      "-8'sd 90 : out<= 8'sd 0 ;\n",
      "-8'sd 89 : out<= 8'sd 0 ;\n",
      "-8'sd 88 : out<= 8'sd 0 ;\n",
      "-8'sd 87 : out<= 8'sd 0 ;\n",
      "-8'sd 86 : out<= 8'sd 0 ;\n",
      "-8'sd 85 : out<= 8'sd 0 ;\n",
      "-8'sd 84 : out<= 8'sd 0 ;\n",
      "-8'sd 83 : out<= 8'sd 0 ;\n",
      "-8'sd 82 : out<= 8'sd 0 ;\n",
      "-8'sd 81 : out<= 8'sd 0 ;\n",
      "-8'sd 80 : out<= 8'sd 0 ;\n",
      "-8'sd 79 : out<= 8'sd 0 ;\n",
      "-8'sd 78 : out<= 8'sd 0 ;\n",
      "-8'sd 77 : out<= 8'sd 0 ;\n",
      "-8'sd 76 : out<= 8'sd 0 ;\n",
      "-8'sd 75 : out<= 8'sd 0 ;\n",
      "-8'sd 74 : out<= 8'sd 0 ;\n",
      "-8'sd 73 : out<= 8'sd 0 ;\n",
      "-8'sd 72 : out<= 8'sd 0 ;\n",
      "-8'sd 71 : out<= 8'sd 0 ;\n",
      "-8'sd 70 : out<= 8'sd 0 ;\n",
      "-8'sd 69 : out<= 8'sd 0 ;\n",
      "-8'sd 68 : out<= 8'sd 0 ;\n",
      "-8'sd 67 : out<= 8'sd 0 ;\n",
      "-8'sd 66 : out<= 8'sd 0 ;\n",
      "-8'sd 65 : out<= 8'sd 0 ;\n",
      "-8'sd 64 : out<= 8'sd 0 ;\n",
      "-8'sd 63 : out<= 8'sd 0 ;\n",
      "-8'sd 62 : out<= 8'sd 0 ;\n",
      "-8'sd 61 : out<= 8'sd 0 ;\n",
      "-8'sd 60 : out<= 8'sd 0 ;\n",
      "-8'sd 59 : out<= 8'sd 0 ;\n",
      "-8'sd 58 : out<= 8'sd 0 ;\n",
      "-8'sd 57 : out<= 8'sd 0 ;\n",
      "-8'sd 56 : out<= 8'sd 0 ;\n",
      "-8'sd 55 : out<= 8'sd 0 ;\n",
      "-8'sd 54 : out<= 8'sd 0 ;\n",
      "-8'sd 53 : out<= 8'sd 0 ;\n",
      "-8'sd 52 : out<= 8'sd 0 ;\n",
      "-8'sd 51 : out<= 8'sd 0 ;\n",
      "-8'sd 50 : out<= 8'sd 0 ;\n",
      "-8'sd 49 : out<= 8'sd 0 ;\n",
      "-8'sd 48 : out<= 8'sd 0 ;\n",
      "-8'sd 47 : out<= 8'sd 0 ;\n",
      "-8'sd 46 : out<= 8'sd 0 ;\n",
      "-8'sd 45 : out<= 8'sd 1 ;\n",
      "-8'sd 44 : out<= 8'sd 1 ;\n",
      "-8'sd 43 : out<= 8'sd 1 ;\n",
      "-8'sd 42 : out<= 8'sd 1 ;\n",
      "-8'sd 41 : out<= 8'sd 1 ;\n",
      "-8'sd 40 : out<= 8'sd 1 ;\n",
      "-8'sd 39 : out<= 8'sd 1 ;\n",
      "-8'sd 38 : out<= 8'sd 2 ;\n",
      "-8'sd 37 : out<= 8'sd 2 ;\n",
      "-8'sd 36 : out<= 8'sd 2 ;\n",
      "-8'sd 35 : out<= 8'sd 2 ;\n",
      "-8'sd 34 : out<= 8'sd 3 ;\n",
      "-8'sd 33 : out<= 8'sd 3 ;\n",
      "-8'sd 32 : out<= 8'sd 3 ;\n",
      "-8'sd 31 : out<= 8'sd 4 ;\n",
      "-8'sd 30 : out<= 8'sd 4 ;\n",
      "-8'sd 29 : out<= 8'sd 5 ;\n",
      "-8'sd 28 : out<= 8'sd 5 ;\n",
      "-8'sd 27 : out<= 8'sd 6 ;\n",
      "-8'sd 26 : out<= 8'sd 6 ;\n",
      "-8'sd 25 : out<= 8'sd 7 ;\n",
      "-8'sd 24 : out<= 8'sd 8 ;\n",
      "-8'sd 23 : out<= 8'sd 9 ;\n",
      "-8'sd 22 : out<= 8'sd 9 ;\n",
      "-8'sd 21 : out<= 8'sd 10 ;\n",
      "-8'sd 20 : out<= 8'sd 11 ;\n",
      "-8'sd 19 : out<= 8'sd 13 ;\n",
      "-8'sd 18 : out<= 8'sd 14 ;\n",
      "-8'sd 17 : out<= 8'sd 15 ;\n",
      "-8'sd 16 : out<= 8'sd 16 ;\n",
      "-8'sd 15 : out<= 8'sd 18 ;\n",
      "-8'sd 14 : out<= 8'sd 19 ;\n",
      "-8'sd 13 : out<= 8'sd 21 ;\n",
      "-8'sd 12 : out<= 8'sd 23 ;\n",
      "-8'sd 11 : out<= 8'sd 24 ;\n",
      "-8'sd 10 : out<= 8'sd 26 ;\n",
      "-8'sd 9 : out<= 8'sd 28 ;\n",
      "-8'sd 8 : out<= 8'sd 31 ;\n",
      "-8'sd 7 : out<= 8'sd 33 ;\n",
      "-8'sd 6 : out<= 8'sd 35 ;\n",
      "-8'sd 5 : out<= 8'sd 37 ;\n",
      "-8'sd 4 : out<= 8'sd 40 ;\n",
      "-8'sd 3 : out<= 8'sd 42 ;\n",
      "-8'sd 2 : out<= 8'sd 45 ;\n",
      "-8'sd 1 : out<= 8'sd 47 ;\n"
     ]
    }
   ],
   "source": [
    "for i in range (-127,0):\n",
    "    print (\"-8'sd\", i*(-1),\": out<= 8'sd\", int(sigmoid_m(i/10)*100) ,\";\")"
   ]
  },
  {
   "cell_type": "code",
   "execution_count": null,
   "metadata": {},
   "outputs": [],
   "source": []
  },
  {
   "cell_type": "code",
   "execution_count": null,
   "metadata": {},
   "outputs": [],
   "source": []
  }
 ],
 "metadata": {
  "kernelspec": {
   "display_name": "Python 3",
   "language": "python",
   "name": "python3"
  },
  "language_info": {
   "codemirror_mode": {
    "name": "ipython",
    "version": 3
   },
   "file_extension": ".py",
   "mimetype": "text/x-python",
   "name": "python",
   "nbconvert_exporter": "python",
   "pygments_lexer": "ipython3",
   "version": "3.6.8"
  }
 },
 "nbformat": 4,
 "nbformat_minor": 2
}
